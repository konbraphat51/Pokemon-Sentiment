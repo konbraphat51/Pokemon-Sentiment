{
 "cells": [
  {
   "attachments": {},
   "cell_type": "markdown",
   "metadata": {},
   "source": [
    "# 重要語と、その極性を表示\n",
    "ストップワードの調整・適用もここでする。"
   ]
  },
  {
   "attachments": {},
   "cell_type": "markdown",
   "metadata": {},
   "source": [
    "# 必要なもの\n",
    "* ID, POPULATION_IDをセット\n",
    "* Stopwordsフォルダーに「ID.txt」ファイルを作成し、ストップワードをスペース区切りで入力。  \n",
    "このストップワードが合致したテキストはこれ以降反映されなくなる。  \n",
    "ひとまずストップワードなしで算出される重要語が「TFIDFによる重要語の算出」の章で表示されるので、それを見ながらストップワードを調整する\n"
   ]
  },
  {
   "cell_type": "code",
   "execution_count": null,
   "metadata": {},
   "outputs": [],
   "source": [
    "ID = \"\"\n",
    "\n",
    "POPULATION_ID = \"\"\n",
    "\n",
    "#分析対象テキストファイル\n",
    "target_texts_file = \"Responses/%s.txt\"%ID\n",
    "\n",
    "#ストップワード\n",
    "stopwords_file = \"Stopwords/%s.txt\"%ID\n",
    "\n",
    "#TFIDFモデル\n",
    "tfidf_model_file = \"Models/Tfidf/%s-from-%s.model\"%(ID, POPULATION_ID)\n",
    "\n",
    "#分析モデル\n",
    "classifer_model_file = \"Models/Classifers/%s-from-%s.model\"%(ID, POPULATION_ID)\n",
    "\n",
    "#ストップワード抜きの形態素解析・極性分析完了したデータの保存先\n",
    "without_stopwords_text_file = \"Progresses/NonStopword/%s-from-%s.txt\"%(ID, POPULATION_ID)\n",
    "\n",
    "#極性保存するファイル\n",
    "sentiment_file = \"Sentiment/%s-from-%s.txt\"%(ID, POPULATION_ID)\n",
    "\n",
    "#内部的に品詞を区別する区切り文字\n",
    "TOKEN_DIVIDER = \"<334>\""
   ]
  },
  {
   "attachments": {},
   "cell_type": "markdown",
   "metadata": {},
   "source": [
    "## TFIDFによる重要語の列挙"
   ]
  },
  {
   "cell_type": "code",
   "execution_count": null,
   "metadata": {},
   "outputs": [],
   "source": [
    "from sklearn.feature_extraction.text import TfidfVectorizer\n",
    "import MeCab\n",
    "import pandas as pd"
   ]
  },
  {
   "attachments": {},
   "cell_type": "markdown",
   "metadata": {},
   "source": [
    "### テキストを取り込み"
   ]
  },
  {
   "cell_type": "code",
   "execution_count": null,
   "metadata": {},
   "outputs": [],
   "source": [
    "df_target = pd.read_table(target_texts_file)\n",
    "\n",
    "df_target.head(5)"
   ]
  },
  {
   "attachments": {},
   "cell_type": "markdown",
   "metadata": {},
   "source": [
    "### 10で計算したTFIDFモデルをサルベージ"
   ]
  },
  {
   "cell_type": "code",
   "execution_count": null,
   "metadata": {},
   "outputs": [],
   "source": [
    "import pickle\n",
    "from copy import deepcopy\n",
    "\n",
    "#TFIDFモデル復元用\n",
    "#tokenizerをすり替え\n",
    "#本ノートでは生テキストではなく形態素解析後のテキストが渡される\n",
    "def tokenize(text):\n",
    "    return text.split(TOKEN_DIVIDER)\n",
    "\n",
    "with open(tfidf_model_file, \"rb\") as f:\n",
    "    tfidf_model = pickle.load(f)\n",
    "\n",
    "#対象（名詞・形容詞）を見せる用\n",
    "tfidf_model_showing = deepcopy(tfidf_model)\n",
    "tfidf_model_showing.ngram = (1,1)\n",
    "tfidf_model_showing.tokenizer = tokenize\n",
    "\n",
    "#極性を予測する用\n",
    "tfidf_model_sentiment = deepcopy(tfidf_model)\n",
    "tfidf_model_sentiment.tokenizer = tokenize"
   ]
  },
  {
   "attachments": {},
   "cell_type": "markdown",
   "metadata": {},
   "source": [
    "### 品詞を抽出"
   ]
  },
  {
   "attachments": {},
   "cell_type": "markdown",
   "metadata": {},
   "source": [
    "#### 形態素解析して原形をリスト化"
   ]
  },
  {
   "attachments": {},
   "cell_type": "markdown",
   "metadata": {},
   "source": [
    "#### 名詞・形容詞原形に限定"
   ]
  },
  {
   "cell_type": "code",
   "execution_count": null,
   "metadata": {},
   "outputs": [],
   "source": [
    "#求める品詞\n",
    "WANTED_WORD = [\"名詞\", \"形容詞\"]\n",
    "\n",
    "#返り値：[全原形], [求める品詞（原形)]\n",
    "def get_target_tokens(text):\n",
    "    output_all = []\n",
    "    output_wanted = []\n",
    "    \n",
    "    tagger = MeCab.Tagger()\n",
    "    node = tagger.parseToNode(text)\n",
    "\n",
    "    while node:\n",
    "        features = node.feature.split(\",\")\n",
    "\n",
    "        #求める品詞なら\n",
    "        if features[0] in WANTED_WORD:\n",
    "            if len(features) >= 8:\n",
    "                #原形を記録\n",
    "                output_wanted.append(features[7])\n",
    "            else:\n",
    "                output_wanted.append(node.surface)\n",
    "\n",
    "        #全品詞\n",
    "        if len(features) >= 8:\n",
    "            #原形を記録\n",
    "            output_all.append(features[7])\n",
    "        else:\n",
    "            output_all.append(node.surface)\n",
    "\n",
    "        node = node.next\n",
    "    \n",
    "    return TOKEN_DIVIDER.join(output_all), TOKEN_DIVIDER.join(output_wanted)\n",
    "\n",
    "get_target_tokens(\"オレンジ今日も食べてみたけどまだ酸っぱくて泣いた\")"
   ]
  },
  {
   "attachments": {},
   "cell_type": "markdown",
   "metadata": {},
   "source": [
    "### TFIDFを計算\n"
   ]
  },
  {
   "attachments": {},
   "cell_type": "markdown",
   "metadata": {},
   "source": [
    "#### テキスト群を原形に分解"
   ]
  },
  {
   "cell_type": "code",
   "execution_count": null,
   "metadata": {},
   "outputs": [],
   "source": [
    "df_target[\"disassembled_all\"] = \"\"\n",
    "df_target[\"disassembled_target\"] = \"\"\n",
    "\n",
    "for index, row in df_target.iterrows():\n",
    "    df_target.at[index, \"disassembled_all\"], df_target.at[index, \"disassembled_target\"] = get_target_tokens(row[\"content\"])\n",
    "\n",
    "df_target.head(5)"
   ]
  },
  {
   "attachments": {},
   "cell_type": "markdown",
   "metadata": {},
   "source": [
    "#### 各文書のTFIDFの平均値でランキング付け"
   ]
  },
  {
   "cell_type": "code",
   "execution_count": null,
   "metadata": {},
   "outputs": [],
   "source": [
    "#上記のテキストを分解\n",
    "target_tfidf_spycy = tfidf_model_showing.transform(df_target[\"disassembled_target\"])\n",
    "target_tfidf = target_tfidf_spycy.toarray()\n",
    "\n",
    "target_tfidf.shape"
   ]
  },
  {
   "cell_type": "code",
   "execution_count": null,
   "metadata": {},
   "outputs": [],
   "source": [
    "#pandas行列に\n",
    "df_tfidf = pd.DataFrame(target_tfidf, columns=tfidf_model.get_feature_names_out())\n",
    "\n",
    "df_tfidf.head(5)"
   ]
  },
  {
   "cell_type": "code",
   "execution_count": null,
   "metadata": {},
   "outputs": [],
   "source": [
    "#平均を算出\n",
    "df_tfidf_mean = df_tfidf.mean(axis=0).sort_values(ascending=False)\n",
    "\n",
    "df_tfidf_mean.head(100)"
   ]
  },
  {
   "attachments": {},
   "cell_type": "markdown",
   "metadata": {},
   "source": [
    "### ストップワードを反映\n",
    "ここでストップワードの調整をする"
   ]
  },
  {
   "attachments": {},
   "cell_type": "markdown",
   "metadata": {},
   "source": [
    "#### ストップワードを取り込み"
   ]
  },
  {
   "cell_type": "code",
   "execution_count": null,
   "metadata": {},
   "outputs": [],
   "source": [
    "with open(stopwords_file, \"r\", encoding=\"utf-8\") as f:\n",
    "    stopwords = f.read().split(\"\\n\")\n",
    "\n",
    "stopwords"
   ]
  },
  {
   "attachments": {},
   "cell_type": "markdown",
   "metadata": {},
   "source": [
    "#### 除外"
   ]
  },
  {
   "cell_type": "code",
   "execution_count": null,
   "metadata": {},
   "outputs": [],
   "source": [
    "import numpy as np"
   ]
  },
  {
   "cell_type": "code",
   "execution_count": null,
   "metadata": {},
   "outputs": [],
   "source": [
    "#ストップワードのないものを除外\n",
    "\n",
    "def has_stopword(text_list):\n",
    "    for word in stopwords:\n",
    "        if word in text_list.split(TOKEN_DIVIDER):\n",
    "            return True\n",
    "    \n",
    "    return False\n",
    "\n",
    "#df_target[has_stopword(df_target[\"disassembled\"]) == False]\n",
    "df_non_stopwords = np.empty((0, df_target.shape[1]))\n",
    "for _, row in df_target.iterrows():\n",
    "    if has_stopword(row[\"disassembled_all\"]) == False:\n",
    "        df_non_stopwords = np.vstack([df_non_stopwords, row.values])\n",
    "\n",
    "df_non_stopwords = pd.DataFrame(df_non_stopwords, columns=df_target.columns)\n",
    "\n",
    "df_non_stopwords.shape"
   ]
  },
  {
   "attachments": {},
   "cell_type": "markdown",
   "metadata": {},
   "source": [
    "#### TFIDFを計算"
   ]
  },
  {
   "cell_type": "code",
   "execution_count": null,
   "metadata": {},
   "outputs": [],
   "source": [
    "target_tfidf_spycy = tfidf_model_showing.transform(df_non_stopwords[\"disassembled_target\"])\n",
    "target_tfidf = target_tfidf_spycy.toarray()\n",
    "\n",
    "#pandas行列に\n",
    "df_tfidf = pd.DataFrame(target_tfidf, columns=tfidf_model_showing.get_feature_names_out())\n",
    "\n",
    "#平均を算出\n",
    "df_tfidf_mean = df_tfidf.mean(axis=0).sort_values(ascending=False)\n",
    "\n",
    "#並べ替え\n",
    "pd.set_option('display.max_rows', 100)\n",
    "df_tfidf_mean.head(100)\n"
   ]
  },
  {
   "attachments": {},
   "cell_type": "markdown",
   "metadata": {},
   "source": [
    "## 重要語の極性分析"
   ]
  },
  {
   "attachments": {},
   "cell_type": "markdown",
   "metadata": {},
   "source": [
    "### 全体の極性"
   ]
  },
  {
   "attachments": {},
   "cell_type": "markdown",
   "metadata": {},
   "source": [
    "### 分類モデルをサルベージ"
   ]
  },
  {
   "cell_type": "code",
   "execution_count": null,
   "metadata": {},
   "outputs": [],
   "source": [
    "with open(classifer_model_file, \"rb\") as f:\n",
    "    classifer = pickle.load(f)"
   ]
  },
  {
   "attachments": {},
   "cell_type": "markdown",
   "metadata": {},
   "source": [
    "### 極性をとる"
   ]
  },
  {
   "cell_type": "code",
   "execution_count": null,
   "metadata": {},
   "outputs": [],
   "source": [
    "def predict(disassembled):\n",
    "    if len(disassembled) == 0:\n",
    "        return []\n",
    "\n",
    "    #TFIDF行列へ変換\n",
    "    df_tfidf = tfidf_model_sentiment.transform(disassembled)\n",
    "    df_tfidf = df_tfidf.toarray()\n",
    "\n",
    "    #分類器に食わせる\n",
    "    output = classifer.predict(df_tfidf)\n",
    "\n",
    "    return output"
   ]
  },
  {
   "cell_type": "code",
   "execution_count": null,
   "metadata": {},
   "outputs": [],
   "source": [
    "df_non_stopwords[\"Sentiment\"] = predict(df_non_stopwords[\"disassembled_all\"])\n",
    "\n",
    "df_non_stopwords.head(5)"
   ]
  },
  {
   "attachments": {},
   "cell_type": "markdown",
   "metadata": {},
   "source": [
    "### 全体の極性"
   ]
  },
  {
   "cell_type": "code",
   "execution_count": null,
   "metadata": {},
   "outputs": [],
   "source": [
    "cnt = 0\n",
    "score = 0\n",
    "for _, row in df_non_stopwords.iterrows():\n",
    "    if row[\"Sentiment\"] == \"pos\":\n",
    "        score += 1\n",
    "    elif row[\"Sentiment\"] == \"neg\":\n",
    "        score -= 1\n",
    "    cnt += 1\n",
    "\n",
    "score /= cnt\n",
    "\n",
    "print(score)"
   ]
  },
  {
   "attachments": {},
   "cell_type": "markdown",
   "metadata": {},
   "source": [
    "### 単語ごと"
   ]
  },
  {
   "cell_type": "code",
   "execution_count": null,
   "metadata": {},
   "outputs": [],
   "source": [
    "#分析する数\n",
    "WANTED = 100\n",
    "\n",
    "#keywordについての極性スコアを分析\n",
    "#返り値：極性スコア、個数\n",
    "def get_sentiment(keyword):\n",
    "    count = 0\n",
    "    score = 0\n",
    "\n",
    "    #keywordを含む行を走査\n",
    "    for _, row in df_non_stopwords.iterrows():\n",
    "        if keyword in row[\"disassembled_all\"].split(TOKEN_DIVIDER):\n",
    "            count += 1\n",
    "            if row[\"Sentiment\"] == \"pos\":\n",
    "                score += 1\n",
    "            elif row[\"Sentiment\"] == \"neg\":\n",
    "                score -= 1\n",
    "\n",
    "    #平均極性スコアを算出\n",
    "    if count == 0:\n",
    "        score = 0\n",
    "    else:\n",
    "        score /= count\n",
    "\n",
    "    return score, count\n",
    "\n",
    "#[Token, TFIDF, Sentiment, Counts]\n",
    "df_sentiment = np.empty((0,4))\n",
    "cnt = 0\n",
    "for index, value in df_tfidf_mean.items():\n",
    "    score, count = get_sentiment(index)\n",
    "    row = np.array([index, value, score, count])\n",
    "    df_sentiment = np.vstack([df_sentiment, row])\n",
    "    cnt += 1\n",
    "    if cnt > WANTED:\n",
    "        break\n",
    "\n",
    "df_sentiment = pd.DataFrame(df_sentiment, columns=[\"Token\", \"TFIDF\", \"Sentiment\", \"Counts\"])\n",
    "\n",
    "df_sentiment.shape"
   ]
  },
  {
   "attachments": {},
   "cell_type": "markdown",
   "metadata": {},
   "source": [
    "### 表示"
   ]
  },
  {
   "cell_type": "code",
   "execution_count": null,
   "metadata": {},
   "outputs": [],
   "source": [
    "import seaborn as sns"
   ]
  },
  {
   "cell_type": "code",
   "execution_count": null,
   "metadata": {},
   "outputs": [],
   "source": [
    "df_sentiment.style.background_gradient(cmap=\"vlag_r\", axis=0, subset=\"Sentiment\")"
   ]
  },
  {
   "attachments": {},
   "cell_type": "markdown",
   "metadata": {},
   "source": [
    "### 保存"
   ]
  },
  {
   "cell_type": "code",
   "execution_count": null,
   "metadata": {},
   "outputs": [],
   "source": [
    "df_sentiment.to_csv(sentiment_file, sep=\"\\t\", index=False)\n",
    "\n",
    "df_non_stopwords.to_csv(without_stopwords_text_file, sep=\"\\t\", index=False)"
   ]
  }
 ],
 "metadata": {
  "kernelspec": {
   "display_name": "jpnlp",
   "language": "python",
   "name": "python3"
  },
  "language_info": {
   "codemirror_mode": {
    "name": "ipython",
    "version": 3
   },
   "file_extension": ".py",
   "mimetype": "text/x-python",
   "name": "python",
   "nbconvert_exporter": "python",
   "pygments_lexer": "ipython3",
   "version": "3.9.16"
  },
  "orig_nbformat": 4,
  "vscode": {
   "interpreter": {
    "hash": "af19612f8f38f6812d87a5ef9419a460d9700d7e1cf8ff071cf581e2ee4d6233"
   }
  }
 },
 "nbformat": 4,
 "nbformat_minor": 2
}
